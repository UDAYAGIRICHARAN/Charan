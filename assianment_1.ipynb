{
  "nbformat": 4,
  "nbformat_minor": 0,
  "metadata": {
    "colab": {
      "name": "assianment 1",
      "provenance": []
    },
    "kernelspec": {
      "name": "python3",
      "display_name": "Python 3"
    }
  },
  "cells": [
    {
      "cell_type": "code",
      "metadata": {
        "id": "RbbCUEttSWYg",
        "colab_type": "code",
        "colab": {
          "base_uri": "https://localhost:8080/",
          "height": 153
        },
        "outputId": "1f8bc52c-d723-4fe5-867c-62e50a00b069"
      },
      "source": [
        "a=(float(input(\"enter first number\")))\n",
        "b=(float(input(\"enter second number\")))\n",
        "sum=a+b\n",
        "sub=a-b\n",
        "mult=a*b\n",
        "div=a%b\n",
        "exp=a**b\n",
        "floor=a//b\n",
        "print(\"sum=\",sum)\n",
        "print(\"subraction=\",sub)\n",
        "print(\"multiplication=\",mult)\n",
        "print(\"division=\",div)\n",
        "print(\"exponent=\",exp)\n",
        "print(\"floor division=\",floor)"
      ],
      "execution_count": 7,
      "outputs": [
        {
          "output_type": "stream",
          "text": [
            "enter first number25\n",
            "enter second number6\n",
            "sum= 31.0\n",
            "subraction= 19.0\n",
            "multiplication= 150.0\n",
            "division= 1.0\n",
            "exponent= 244140625.0\n",
            "floor division= 4.0\n"
          ],
          "name": "stdout"
        }
      ]
    },
    {
      "cell_type": "code",
      "metadata": {
        "id": "5sJA4bvaVlWL",
        "colab_type": "code",
        "colab": {}
      },
      "source": [
        "##simply intrest"
      ],
      "execution_count": 11,
      "outputs": []
    },
    {
      "cell_type": "code",
      "metadata": {
        "id": "A0CaYnNYXe1L",
        "colab_type": "code",
        "colab": {
          "base_uri": "https://localhost:8080/",
          "height": 85
        },
        "outputId": "d17d003d-1470-4bb2-f21d-00d985e0609a"
      },
      "source": [
        "a=(float(input(\"enter princple amount = \")))\n",
        "b=(float(input(\"enter time in years = \")))\n",
        "c=(float(input(\"entre intrest percentage = \")))\n",
        "s=(a*b*c)/100\n",
        "print(\"simple intrest\",s)"
      ],
      "execution_count": 13,
      "outputs": [
        {
          "output_type": "stream",
          "text": [
            "enter princple amount367827\n",
            "enter time in years2\n",
            "entre intrest percentage678\n",
            "simple intrest 4987734.12\n"
          ],
          "name": "stdout"
        }
      ]
    },
    {
      "cell_type": "code",
      "metadata": {
        "id": "OxBkqnniZISR",
        "colab_type": "code",
        "colab": {}
      },
      "source": [
        "##area of triangle"
      ],
      "execution_count": null,
      "outputs": []
    },
    {
      "cell_type": "code",
      "metadata": {
        "id": "ml_4wkBvZIgC",
        "colab_type": "code",
        "colab": {
          "base_uri": "https://localhost:8080/",
          "height": 51
        },
        "outputId": "6448c1ad-ed43-43cb-c005-fd02ed2bd6be"
      },
      "source": [
        "a=(float(input(\"enter radiusof circle=\")))\n",
        "\n",
        "area=22/7*a*a\n",
        "print(\"area of circle\",area)"
      ],
      "execution_count": 16,
      "outputs": [
        {
          "output_type": "stream",
          "text": [
            "enter radiusof circle=1\n",
            "area of circle 3.142857142857143\n"
          ],
          "name": "stdout"
        }
      ]
    },
    {
      "cell_type": "code",
      "metadata": {
        "id": "By4E_3zoaVVS",
        "colab_type": "code",
        "colab": {}
      },
      "source": [
        "##area of traiangle"
      ],
      "execution_count": null,
      "outputs": []
    },
    {
      "cell_type": "code",
      "metadata": {
        "id": "_hnapOTnaVdD",
        "colab_type": "code",
        "colab": {
          "base_uri": "https://localhost:8080/",
          "height": 68
        },
        "outputId": "2f045940-85b9-42a9-a2f6-61f70d7c556d"
      },
      "source": [
        "a=(float(input(\"enter base of triangle=\")))\n",
        "b=(float(input(\"enter hegiht of triangle= \")))\n",
        "area=1/2*a*b\n",
        "print(\"area of triangle\",area)"
      ],
      "execution_count": 17,
      "outputs": [
        {
          "output_type": "stream",
          "text": [
            "enter base of triangle=3\n",
            "enter hegiht of triangle= 4\n",
            "area of triangle 6.0\n"
          ],
          "name": "stdout"
        }
      ]
    },
    {
      "cell_type": "code",
      "metadata": {
        "id": "IMAFUVArZYLR",
        "colab_type": "code",
        "colab": {}
      },
      "source": [
        ""
      ],
      "execution_count": null,
      "outputs": []
    },
    {
      "cell_type": "code",
      "metadata": {
        "id": "Lqntb6VnZYOd",
        "colab_type": "code",
        "colab": {
          "base_uri": "https://localhost:8080/",
          "height": 51
        },
        "outputId": "c0ab8ab6-18c2-486e-b99c-8d487d9d64e7"
      },
      "source": [
        "a=(float(input(\"enter first number\")))\n",
        "f=(a*9/5)+32\n",
        "print(\"fahrenheit\",f)\n"
      ],
      "execution_count": 21,
      "outputs": [
        {
          "output_type": "stream",
          "text": [
            "enter first number0\n",
            "fahrenheit 32.0\n"
          ],
          "name": "stdout"
        }
      ]
    },
    {
      "cell_type": "code",
      "metadata": {
        "id": "TpCRK13IZYRi",
        "colab_type": "code",
        "colab": {}
      },
      "source": [
        "##area of rectangle"
      ],
      "execution_count": null,
      "outputs": []
    },
    {
      "cell_type": "code",
      "metadata": {
        "id": "YuSc_RYaZYUl",
        "colab_type": "code",
        "colab": {
          "base_uri": "https://localhost:8080/",
          "height": 68
        },
        "outputId": "bd954e68-fac3-4fe7-f5f4-524a45146b7e"
      },
      "source": [
        "a=(float(input(\"enter length=\")))\n",
        "b=(float(input(\"enter bredth=\")))\n",
        "area=a*b\n",
        "print(\"lentgh of rectangle\",area)"
      ],
      "execution_count": 22,
      "outputs": [
        {
          "output_type": "stream",
          "text": [
            "enter length=22\n",
            "enter bredth=33\n",
            "lentgh of rectangle 726.0\n"
          ],
          "name": "stdout"
        }
      ]
    },
    {
      "cell_type": "code",
      "metadata": {
        "id": "szB3fvarZYX7",
        "colab_type": "code",
        "colab": {}
      },
      "source": [
        "##perimeter of a square"
      ],
      "execution_count": null,
      "outputs": []
    },
    {
      "cell_type": "code",
      "metadata": {
        "id": "Y1AicGggdHL6",
        "colab_type": "code",
        "colab": {
          "base_uri": "https://localhost:8080/",
          "height": 51
        },
        "outputId": "cd7f7726-1428-4e22-cc01-dba59370642b"
      },
      "source": [
        "a=(float(input(\"enter side of squre=\")))\n",
        "p=4*a\n",
        "print(\"perimeter of squre\",p)"
      ],
      "execution_count": 23,
      "outputs": [
        {
          "output_type": "stream",
          "text": [
            "enter side of squre=4\n",
            "perimeter of squre 16.0\n"
          ],
          "name": "stdout"
        }
      ]
    },
    {
      "cell_type": "code",
      "metadata": {
        "id": "eRavnCgydHPc",
        "colab_type": "code",
        "colab": {}
      },
      "source": [
        ""
      ],
      "execution_count": null,
      "outputs": []
    },
    {
      "cell_type": "code",
      "metadata": {
        "id": "KxBbjwrJdHYT",
        "colab_type": "code",
        "colab": {
          "base_uri": "https://localhost:8080/",
          "height": 51
        },
        "outputId": "f9ecc972-1c8d-4f52-ef45-7c92ba80b707"
      },
      "source": [
        "a=(float(input(\"enter redius of circle=\")))\n",
        "c=2*22/7*a\n",
        "print(\"perimeter of squre=\",c)"
      ],
      "execution_count": 25,
      "outputs": [
        {
          "output_type": "stream",
          "text": [
            "enter redius of circle=33\n",
            "perimeter of squre= 207.42857142857142\n"
          ],
          "name": "stdout"
        }
      ]
    },
    {
      "cell_type": "code",
      "metadata": {
        "id": "8zySw2PydHb3",
        "colab_type": "code",
        "colab": {}
      },
      "source": [
        "swap of two number"
      ],
      "execution_count": null,
      "outputs": []
    },
    {
      "cell_type": "code",
      "metadata": {
        "id": "AfG2Yh6PZYbZ",
        "colab_type": "code",
        "colab": {
          "base_uri": "https://localhost:8080/",
          "height": 102
        },
        "outputId": "343b8043-2e5a-485f-8c77-0e445dcd4210"
      },
      "source": [
        "a=(float(input(\"enter first number a=\")))\n",
        "b=(float(input(\"enter second number b= \")))\n",
        "a,b=b,a\n",
        "print(\"swap of two numbers\")\n",
        "print(\"a=\",a)\n",
        "print(\"b=\",b)"
      ],
      "execution_count": 28,
      "outputs": [
        {
          "output_type": "stream",
          "text": [
            "enter first number a=22\n",
            "enter second number b= 34\n",
            "swap of two numbers\n",
            "a= 34.0\n",
            "b= 22.0\n"
          ],
          "name": "stdout"
        }
      ]
    }
  ]
}