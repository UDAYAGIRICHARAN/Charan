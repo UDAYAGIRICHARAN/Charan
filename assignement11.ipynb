{
  "nbformat": 4,
  "nbformat_minor": 0,
  "metadata": {
    "colab": {
      "name": "assignement11.ipynb",
      "provenance": []
    },
    "kernelspec": {
      "name": "python3",
      "display_name": "Python 3"
    }
  },
  "cells": [
    {
      "cell_type": "markdown",
      "metadata": {
        "id": "ZsF7myBSKYT_",
        "colab_type": "text"
      },
      "source": [
        "##read a complete file"
      ]
    },
    {
      "cell_type": "code",
      "metadata": {
        "id": "TVAyCcgIKBje",
        "colab_type": "code",
        "colab": {}
      },
      "source": [
        "\n",
        "with open(\"test.ch\", \"r\") as f:\n",
        "    f_contents = f.read()\n",
        "    print(f_contents, end = '')"
      ],
      "execution_count": null,
      "outputs": []
    },
    {
      "cell_type": "markdown",
      "metadata": {
        "id": "sLtk2yfGKZ5t",
        "colab_type": "text"
      },
      "source": [
        "##append and disply"
      ]
    },
    {
      "cell_type": "code",
      "metadata": {
        "id": "y0VHEZZsJhYh",
        "colab_type": "code",
        "colab": {}
      },
      "source": [
        "appendme=\"\\n added this line into file\"\n",
        "appendfile=open(\"test.ch\", \"a\") \n",
        "appendfile.write(appendme)\n",
        "appendfile.close()"
      ],
      "execution_count": null,
      "outputs": []
    },
    {
      "cell_type": "markdown",
      "metadata": {
        "id": "ZJIQRlftKamV",
        "colab_type": "text"
      },
      "source": [
        "##convert lines of file into list:"
      ]
    },
    {
      "cell_type": "code",
      "metadata": {
        "id": "lrFjTA-yJt2d",
        "colab_type": "code",
        "colab": {}
      },
      "source": [
        "lst1=[]\n",
        "with open(\"test.ch\", \"r\") as f:\n",
        "    f_contents = f.readline()\n",
        "    lst1.append(f_contents)\n",
        "    print(lst1)"
      ],
      "execution_count": null,
      "outputs": []
    },
    {
      "cell_type": "markdown",
      "metadata": {
        "id": "5pjAG9E1KbtA",
        "colab_type": "text"
      },
      "source": [
        "##longest word"
      ]
    },
    {
      "cell_type": "code",
      "metadata": {
        "id": "sRzfuW0KJzN9",
        "colab_type": "code",
        "colab": {}
      },
      "source": [
        "\n",
        "lst1=[]\n",
        "with open(\"test.ch\", \"r\") as f:\n",
        "    f_contents = f.readline()\n",
        "    lst1.append(f_contents)\n",
        "    res = max(lst1, key = len) \n",
        "print(res)"
      ],
      "execution_count": null,
      "outputs": []
    },
    {
      "cell_type": "markdown",
      "metadata": {
        "id": "zwaH1Z8UKcru",
        "colab_type": "text"
      },
      "source": [
        "##count the number of lines in a life"
      ]
    },
    {
      "cell_type": "code",
      "metadata": {
        "id": "x6Z6ViCuJ3EM",
        "colab_type": "code",
        "colab": {}
      },
      "source": [
        "fname = \"test.ch\"\n",
        "count = 0\n",
        "with open(fname, 'r') as f:\n",
        "    for line in f:\n",
        "        count += 1\n",
        "print(\"Total number of lines is:\", count)"
      ],
      "execution_count": null,
      "outputs": []
    }
  ]
}