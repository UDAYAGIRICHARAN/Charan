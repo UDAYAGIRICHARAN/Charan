{
  "nbformat": 4,
  "nbformat_minor": 0,
  "metadata": {
    "colab": {
      "name": "Untitled3.ipynb",
      "provenance": []
    },
    "kernelspec": {
      "name": "python3",
      "display_name": "Python 3"
    }
  },
  "cells": [
    {
      "cell_type": "markdown",
      "metadata": {
        "id": "8w9D0vkXbgU2",
        "colab_type": "text"
      },
      "source": [
        "##Binary number to decimal"
      ]
    },
    {
      "cell_type": "code",
      "metadata": {
        "id": "nztsTOKSRCqx",
        "colab_type": "code",
        "colab": {
          "base_uri": "https://localhost:8080/",
          "height": 51
        },
        "outputId": "6a97b721-bdec-4f83-951c-fc4b8db81361"
      },
      "source": [
        "binary=(input('entre a binary number'))\n",
        "decimal=int(binary,2)\n",
        "print(binary,\"In decimal\",decimal)"
      ],
      "execution_count": 40,
      "outputs": [
        {
          "output_type": "stream",
          "text": [
            "entre a binary number010\n",
            "010 In decimal 2\n"
          ],
          "name": "stdout"
        }
      ]
    },
    {
      "cell_type": "markdown",
      "metadata": {
        "id": "awOAKu19bfhX",
        "colab_type": "text"
      },
      "source": [
        "##fibonacci serius\n",
        "\n"
      ]
    },
    {
      "cell_type": "code",
      "metadata": {
        "id": "i1Zmyl6uHGq5",
        "colab_type": "code",
        "colab": {
          "base_uri": "https://localhost:8080/",
          "height": 204
        },
        "outputId": "f0650cb1-065b-4ab8-c390-b7a36f6a975b"
      },
      "source": [
        "\n",
        "n=int(input(\" a user entre fibonacci number\"))\n",
        "a=0\n",
        "b=1\n",
        "print(a)\n",
        "print(b)\n",
        "for i in range(2,n):\n",
        "      c=a+b\n",
        "      a=b\n",
        "      b=c\n",
        "      print(c)"
      ],
      "execution_count": 6,
      "outputs": [
        {
          "output_type": "stream",
          "text": [
            " a user entre fibonacci number10\n",
            "0\n",
            "1\n",
            "1\n",
            "2\n",
            "3\n",
            "5\n",
            "8\n",
            "13\n",
            "21\n",
            "34\n"
          ],
          "name": "stdout"
        }
      ]
    },
    {
      "cell_type": "markdown",
      "metadata": {
        "id": "Yqd8tYC8bkFr",
        "colab_type": "text"
      },
      "source": [
        "##multipliacation table"
      ]
    },
    {
      "cell_type": "code",
      "metadata": {
        "id": "1eOuprqXHGt1",
        "colab_type": "code",
        "colab": {
          "base_uri": "https://localhost:8080/",
          "height": 374
        },
        "outputId": "06f7a213-adef-49e8-a209-2599bc28bf5e"
      },
      "source": [
        "K=int(input(\"entre a number to multiplication table\"))\n",
        "for i in range(i,21):\n",
        "   print(K,\"X\",i,\"=\",K*i)\n"
      ],
      "execution_count": 16,
      "outputs": [
        {
          "output_type": "stream",
          "text": [
            "entre a number to multiplication table7\n",
            "7 X 1 = 7\n",
            "7 X 2 = 14\n",
            "7 X 3 = 21\n",
            "7 X 4 = 28\n",
            "7 X 5 = 35\n",
            "7 X 6 = 42\n",
            "7 X 7 = 49\n",
            "7 X 8 = 56\n",
            "7 X 9 = 63\n",
            "7 X 10 = 70\n",
            "7 X 11 = 77\n",
            "7 X 12 = 84\n",
            "7 X 13 = 91\n",
            "7 X 14 = 98\n",
            "7 X 15 = 105\n",
            "7 X 16 = 112\n",
            "7 X 17 = 119\n",
            "7 X 18 = 126\n",
            "7 X 19 = 133\n",
            "7 X 20 = 140\n"
          ],
          "name": "stdout"
        }
      ]
    },
    {
      "cell_type": "markdown",
      "metadata": {
        "id": "R_O3dG6nblci",
        "colab_type": "text"
      },
      "source": [
        "##Gcd\n",
        "```\n",
        "\n"
      ]
    },
    {
      "cell_type": "markdown",
      "metadata": {
        "id": "-r1kFBLYbmu2",
        "colab_type": "text"
      },
      "source": [
        "##Gcd and hcf"
      ]
    },
    {
      "cell_type": "code",
      "metadata": {
        "id": "PxtJey-3aVwY",
        "colab_type": "code",
        "colab": {
          "base_uri": "https://localhost:8080/",
          "height": 85
        },
        "outputId": "197c5abf-8cdf-4efd-87bd-6035398f2378"
      },
      "source": [
        "import math\n",
        "x= int(input(\"Enter first number: \"))  \n",
        "y = int(input(\"Enter second number: \"))  \n",
        "a=x\n",
        "b=y\n",
        "if x > y:  \n",
        "    smaller = y  \n",
        "else:  \n",
        "    smaller = x  \n",
        "for i in range(1,smaller + 1):\n",
        "    \n",
        "    if((x % i == 0) and (y % i == 0)):  \n",
        "        hcf = i  \n",
        "print(\"hcd of two numbers is\",hcf)\n",
        "print(\"gcd of two numbers is\",math.gcd(a,b))"
      ],
      "execution_count": 48,
      "outputs": [
        {
          "output_type": "stream",
          "text": [
            "Enter first number: 12\n",
            "Enter second number: 8\n",
            "hcd of two numbers is 4\n",
            "gcd of two numbers is 4\n"
          ],
          "name": "stdout"
        }
      ]
    }
  ]
}