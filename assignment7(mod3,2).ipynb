{
  "nbformat": 4,
  "nbformat_minor": 0,
  "metadata": {
    "colab": {
      "name": " assignment7(mod3,2)",
      "provenance": []
    },
    "kernelspec": {
      "name": "python3",
      "display_name": "Python 3"
    }
  },
  "cells": [
    {
      "cell_type": "markdown",
      "metadata": {
        "id": "wGMqu7xG1W7J",
        "colab_type": "text"
      },
      "source": [
        "##vowel count finder"
      ]
    },
    {
      "cell_type": "code",
      "metadata": {
        "id": "af1kkvN-2OtE",
        "colab_type": "code",
        "colab": {
          "base_uri": "https://localhost:8080/",
          "height": 50
        },
        "outputId": "dac931d7-b6b8-4800-ea68-c9c08afeecd4"
      },
      "source": [
        "str=input('entre the string')\n",
        "vowels = 0\n",
        " for i in str1:\n",
        "    if(i == 'a' or i == 'e' or i == 'i' or i == 'o' or i == 'u' or i == 'A'\n",
        "       or i == 'E' or i == 'I' or i == 'O' or i == 'U'):\n",
        "        vowels = vowels + 1\n",
        " \n",
        "print(\"Total Number of Vowels in this String = \", vowels)"
      ],
      "execution_count": null,
      "outputs": [
        {
          "output_type": "stream",
          "text": [
            "Please Enter Your Own String : charan\n",
            "Total Number of Vowels in this String =  2\n"
          ],
          "name": "stdout"
        }
      ]
    },
    {
      "cell_type": "markdown",
      "metadata": {
        "id": "fD8OxZLY00mm",
        "colab_type": "text"
      },
      "source": [
        "## duplicate letters remover"
      ]
    },
    {
      "cell_type": "code",
      "metadata": {
        "id": "2yPU2Odsgky-",
        "colab_type": "code",
        "colab": {
          "base_uri": "https://localhost:8080/",
          "height": 50
        },
        "outputId": "7ab72b07-7c14-4236-8aae-1331953e7b46"
      },
      "source": [
        "\n",
        "word=input(\"enter your string :\")\n",
        "new = \" \"\n",
        "index = 0\n",
        "for char in word:\n",
        "    if char != new[index]:\n",
        "            new += char\n",
        "            index += 1\n",
        "     \n",
        "print(new.strip())\n",
        "\n"
      ],
      "execution_count": 23,
      "outputs": [
        {
          "output_type": "stream",
          "text": [
            "enter your string :iccccc\n",
            "ic\n"
          ],
          "name": "stdout"
        }
      ]
    },
    {
      "cell_type": "markdown",
      "metadata": {
        "id": "t7YW_F2I0-yy",
        "colab_type": "text"
      },
      "source": [
        "## even words "
      ]
    },
    {
      "cell_type": "code",
      "metadata": {
        "id": "okqOjLRY0heQ",
        "colab_type": "code",
        "colab": {
          "base_uri": "https://localhost:8080/",
          "height": 67
        },
        "outputId": "dd2aa129-fe0f-48cd-d178-e84e5d122ddf"
      },
      "source": [
        "\n",
        "str = input(\"Enter a string\")\n",
        "modified_string = str[::2]\n",
        "print(modified_string)"
      ],
      "execution_count": 31,
      "outputs": [
        {
          "output_type": "stream",
          "text": [
            "Enter a string\n",
            "charan\n",
            "caa\n"
          ],
          "name": "stdout"
        }
      ]
    },
    {
      "cell_type": "markdown",
      "metadata": {
        "id": "hNRlAQgu0yyP",
        "colab_type": "text"
      },
      "source": [
        "## reverse string"
      ]
    },
    {
      "cell_type": "code",
      "metadata": {
        "id": "u-W9tT7zwbZu",
        "colab_type": "code",
        "colab": {
          "base_uri": "https://localhost:8080/",
          "height": 67
        },
        "outputId": "328cede3-80f1-4144-f166-ffd334f561ba"
      },
      "source": [
        "str1=input('entre the string')\n",
        "str2=str1[::-1]\n",
        "print(str1)\n",
        "print(str2)"
      ],
      "execution_count": null,
      "outputs": [
        {
          "output_type": "stream",
          "text": [
            "entre the stringcharan\n",
            "charan\n",
            "narahc\n"
          ],
          "name": "stdout"
        }
      ]
    },
    {
      "cell_type": "markdown",
      "metadata": {
        "id": "xQnyvo2Q1NVM",
        "colab_type": "text"
      },
      "source": [
        "##check binary or not"
      ]
    },
    {
      "cell_type": "code",
      "metadata": {
        "id": "5otKE0WOwbdE",
        "colab_type": "code",
        "colab": {
          "base_uri": "https://localhost:8080/",
          "height": 50
        },
        "outputId": "78ace392-04a6-40e1-e5ee-4c95947667e5"
      },
      "source": [
        "a=input(\"enter the string :\")\n",
        "\n",
        "i=0\n",
        "j=1\n",
        "while(i<len(k)):\n",
        "    if(a[i]==\"0\" or a[i]==\"1\"):\n",
        "        print(\"ITS A BINARY STRING\")\n",
        "        break\n",
        "        \n",
        "    else:\n",
        "        j=0\n",
        "        i=i+1\n",
        "        \n",
        "if(j==0):\n",
        "    print(\" NOT A BINARY STRING\")\n"
      ],
      "execution_count": 18,
      "outputs": [
        {
          "output_type": "stream",
          "text": [
            "enter the string :0001\n",
            "ITS A BINARY STRING\n"
          ],
          "name": "stdout"
        }
      ]
    },
    {
      "cell_type": "code",
      "metadata": {
        "id": "0t94tCvLwbgm",
        "colab_type": "code",
        "colab": {}
      },
      "source": [
        ""
      ],
      "execution_count": null,
      "outputs": []
    }
  ]
}