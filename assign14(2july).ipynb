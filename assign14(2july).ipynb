{
  "nbformat": 4,
  "nbformat_minor": 0,
  "metadata": {
    "colab": {
      "name": "assign14(2july).ipynb",
      "provenance": []
    },
    "kernelspec": {
      "name": "python3",
      "display_name": "Python 3"
    }
  },
  "cells": [
    {
      "cell_type": "markdown",
      "metadata": {
        "id": "-GNyNNkjlZnu",
        "colab_type": "text"
      },
      "source": [
        "##create a tuple"
      ]
    },
    {
      "cell_type": "code",
      "metadata": {
        "id": "yZvZM2TwhMAc",
        "colab_type": "code",
        "colab": {
          "base_uri": "https://localhost:8080/",
          "height": 34
        },
        "outputId": "95c93106-eabc-4af7-e687-24a3b868f997"
      },
      "source": [
        "tup=(1,2,3,4,5)\n",
        "print(tup)"
      ],
      "execution_count": 12,
      "outputs": [
        {
          "output_type": "stream",
          "text": [
            "(1, 2, 3, 4, 5)\n"
          ],
          "name": "stdout"
        }
      ]
    },
    {
      "cell_type": "markdown",
      "metadata": {
        "id": "-4iCnY-slaQe",
        "colab_type": "text"
      },
      "source": [
        "##different data types"
      ]
    },
    {
      "cell_type": "code",
      "metadata": {
        "id": "wfSQO1BaiDCK",
        "colab_type": "code",
        "colab": {
          "base_uri": "https://localhost:8080/",
          "height": 34
        },
        "outputId": "6c15f912-595b-483c-b1c9-8490bb8984f7"
      },
      "source": [
        "star=(40,\"charan\",55.345,2>1)\n",
        "print(star)"
      ],
      "execution_count": 22,
      "outputs": [
        {
          "output_type": "stream",
          "text": [
            "(40, 'charan', 55.345, True)\n"
          ],
          "name": "stdout"
        }
      ]
    },
    {
      "cell_type": "markdown",
      "metadata": {
        "id": "5pPeh7Ogld8i",
        "colab_type": "text"
      },
      "source": [
        "##tuple to string"
      ]
    },
    {
      "cell_type": "code",
      "metadata": {
        "id": "HsQ50yKAiWNs",
        "colab_type": "code",
        "colab": {
          "base_uri": "https://localhost:8080/",
          "height": 34
        },
        "outputId": "94bd32f1-608e-4cc4-8754-cf8bd7f4fe8d"
      },
      "source": [
        "start=(\"charan\",\"vamshi\",\"ravi\")\n",
        "string=str(start)\n",
        "print(string)"
      ],
      "execution_count": 14,
      "outputs": [
        {
          "output_type": "stream",
          "text": [
            "('charan', 'vamshi', 'ravi')\n"
          ],
          "name": "stdout"
        }
      ]
    },
    {
      "cell_type": "markdown",
      "metadata": {
        "id": "7B3l5I-kle1I",
        "colab_type": "text"
      },
      "source": [
        "##slice to string"
      ]
    },
    {
      "cell_type": "code",
      "metadata": {
        "id": "oXL0bD_9itEb",
        "colab_type": "code",
        "colab": {
          "base_uri": "https://localhost:8080/",
          "height": 34
        },
        "outputId": "c3df93fa-e505-4074-f300-62e384037afb"
      },
      "source": [
        "tup=(1,2,3,4,5)\n",
        "print(\"tuple length=\",len(tup))"
      ],
      "execution_count": 23,
      "outputs": [
        {
          "output_type": "stream",
          "text": [
            "tuple length= 5\n"
          ],
          "name": "stdout"
        }
      ]
    },
    {
      "cell_type": "markdown",
      "metadata": {
        "id": "LFSITQwPlfyc",
        "colab_type": "text"
      },
      "source": [
        "##find length of string"
      ]
    },
    {
      "cell_type": "code",
      "metadata": {
        "id": "y6zjHepMjEpy",
        "colab_type": "code",
        "colab": {
          "base_uri": "https://localhost:8080/",
          "height": 34
        },
        "outputId": "4644bd8d-6d59-4521-8fb5-3d46be15bc74"
      },
      "source": [
        "tup=((1,'king'), (2,'queen'))\n",
        "a=dict((y, x) for x, y in tup)\n",
        "print(a)"
      ],
      "execution_count": 24,
      "outputs": [
        {
          "output_type": "stream",
          "text": [
            "{'king': 1, 'queen': 2}\n"
          ],
          "name": "stdout"
        }
      ]
    },
    {
      "cell_type": "markdown",
      "metadata": {
        "id": "CuskmSjPlgfU",
        "colab_type": "text"
      },
      "source": [
        "##tuple to dictanary"
      ]
    },
    {
      "cell_type": "code",
      "metadata": {
        "id": "9dpGGIYmjXKe",
        "colab_type": "code",
        "colab": {
          "base_uri": "https://localhost:8080/",
          "height": 34
        },
        "outputId": "42710612-123f-44f4-b28a-1500653567ec"
      },
      "source": [
        "star=(120,\"icon\",22.2,66,92)\n",
        "print(star[::-1])"
      ],
      "execution_count": 27,
      "outputs": [
        {
          "output_type": "stream",
          "text": [
            "(92, 66, 22.2, 'icon', 120)\n"
          ],
          "name": "stdout"
        }
      ]
    },
    {
      "cell_type": "code",
      "metadata": {
        "id": "98eMj3P8mFI7",
        "colab_type": "code",
        "colab": {}
      },
      "source": [
        "##reverse string"
      ],
      "execution_count": null,
      "outputs": []
    },
    {
      "cell_type": "code",
      "metadata": {
        "id": "36cQcpqcjaRt",
        "colab_type": "code",
        "colab": {
          "base_uri": "https://localhost:8080/",
          "height": 34
        },
        "outputId": "e69246e8-eeb4-4239-9b97-4dcabf8added"
      },
      "source": [
        "my_list = [('charan', 1), ('kumar', 1)]\n",
        "dict(my_list)\n",
        "print(my_list)"
      ],
      "execution_count": 25,
      "outputs": [
        {
          "output_type": "stream",
          "text": [
            "[('charan', 1), ('kumar', 1)]\n"
          ],
          "name": "stdout"
        }
      ]
    },
    {
      "cell_type": "markdown",
      "metadata": {
        "id": "ogdIZo6IlhmO",
        "colab_type": "text"
      },
      "source": [
        "##list of tuples to dictonary"
      ]
    },
    {
      "cell_type": "code",
      "metadata": {
        "id": "wVr19mGjjpiY",
        "colab_type": "code",
        "colab": {
          "base_uri": "https://localhost:8080/",
          "height": 34
        },
        "outputId": "61829e72-e901-4644-ac6a-6dc801e33a6d"
      },
      "source": [
        "a=[123,\"king\",77,99]\n",
        "print(a)"
      ],
      "execution_count": 28,
      "outputs": [
        {
          "output_type": "stream",
          "text": [
            "[123, 'king', 77, 99]\n"
          ],
          "name": "stdout"
        }
      ]
    }
  ]
}