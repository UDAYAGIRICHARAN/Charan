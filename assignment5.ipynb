{
 "cells": [
  {
   "cell_type": "markdown",
   "metadata": {},
   "source": [
    "##area of circle"
   ]
  },
  {
   "cell_type": "code",
   "execution_count": 2,
   "metadata": {},
   "outputs": [
    {
     "name": "stdout",
     "output_type": "stream",
     "text": [
      "entre a radius49\n",
      "7542.9639612690935\n",
      "3.141592653589793\n"
     ]
    }
   ],
   "source": [
    "import math\n",
    "r=int(input(\"entre a radius\"))\n",
    "p=math.pi\n",
    "a=r*r*p\n",
    "print(a)\n",
    "print(p)"
   ]
  },
  {
   "cell_type": "markdown",
   "metadata": {},
   "source": [
    "##area of regular polygon"
   ]
  },
  {
   "cell_type": "code",
   "execution_count": 21,
   "metadata": {},
   "outputs": [
    {
     "name": "stdout",
     "output_type": "stream",
     "text": [
      "enter number of sides :22\n",
      "enter length of side :34\n",
      "the area regular polygon is : 44220.86132293575\n"
     ]
    }
   ],
   "source": [
    "import math\n",
    "s=int(input(\"enter number of sides :\"))\n",
    "l=float(input(\"enter length of side :\"))\n",
    "\n",
    "area=s*(l**2)/(4*math.tan(math.pi/s))\n",
    "\n",
    "print(\"the area regular polygon is :\",area)"
   ]
  },
  {
   "cell_type": "markdown",
   "metadata": {},
   "source": [
    "##area of segment"
   ]
  },
  {
   "cell_type": "code",
   "execution_count": 23,
   "metadata": {},
   "outputs": [
    {
     "name": "stdout",
     "output_type": "stream",
     "text": [
      "enter degree of your segment :22\n",
      "enter radius of circle :12\n",
      "the area of segment is : 27.64601535159018\n"
     ]
    }
   ],
   "source": [
    "import math\n",
    "deg=int(input(\"enter degree of your segment :\"))\n",
    "rad=float(input(\"enter radius of circle :\"))\n",
    "\n",
    "area=(deg/360)*(math.pi)*(rad**2)\n",
    "\n",
    "\n",
    "print(\"the area of segment is :\",area)"
   ]
  },
  {
   "cell_type": "markdown",
   "metadata": {},
   "source": [
    "##shufile list"
   ]
  },
  {
   "cell_type": "code",
   "execution_count": 30,
   "metadata": {},
   "outputs": [
    {
     "name": "stdout",
     "output_type": "stream",
     "text": [
      "suffle list [40, 'hai', 100, 12, 'hello', 330]\n"
     ]
    }
   ],
   "source": [
    "import random\n",
    "m=[100,12,330,40,\"hai\",\"hello\"]\n",
    "random.shuffle(m)\n",
    "print(\"suffle list\",m)"
   ]
  },
  {
   "cell_type": "markdown",
   "metadata": {},
   "source": [
    "##shuffle list with range of 50"
   ]
  },
  {
   "cell_type": "code",
   "execution_count": 31,
   "metadata": {},
   "outputs": [
    {
     "name": "stdout",
     "output_type": "stream",
     "text": [
      "201\n"
     ]
    }
   ],
   "source": [
    "import random\n",
    "a=random.randrange(1,1000,50)\n",
    "print(a)"
   ]
  },
  {
   "cell_type": "markdown",
   "metadata": {},
   "source": [
    "##math functions"
   ]
  },
  {
   "cell_type": "code",
   "execution_count": 39,
   "metadata": {},
   "outputs": [
    {
     "ename": "SyntaxError",
     "evalue": "unexpected EOF while parsing (<ipython-input-39-64af90089645>, line 11)",
     "output_type": "error",
     "traceback": [
      "\u001b[1;36m  File \u001b[1;32m\"<ipython-input-39-64af90089645>\"\u001b[1;36m, line \u001b[1;32m11\u001b[0m\n\u001b[1;33m    \u001b[0m\n\u001b[1;37m    ^\u001b[0m\n\u001b[1;31mSyntaxError\u001b[0m\u001b[1;31m:\u001b[0m unexpected EOF while parsing\n"
     ]
    }
   ],
   "source": [
    "import math\n",
    "##sin60degrees\n",
    "math.sin(math.radians(45))\n",
    "\n",
    "#cos(pi)\n",
    "math.cos(math.pi)\n",
    "\n",
    "#tan90 degrees\n",
    "math.tan(math.radians(90))\n",
    "\n",
    "#5^8\n",
    "math.pow(5,8)\n",
    "\n",
    "#sqrt of 400\n",
    "math.sqrt(400)\n",
    "\n",
    "#5^e\n",
    "math.pow(5,math.e)\n",
    "\n",
    "#log(1024) base 10 and 2\n",
    "\n",
    "math.log10(1024)\n",
    "math.log2(1024)\n",
    "\n",
    "\n",
    "#floor and ciel\n",
    "\n",
    "math.ceil(23.56)\n",
    "math.floor(23.56)\n",
    "\n",
    "\n",
    "#sin(?)=0.8660254037844\n",
    "math.asin(0.8660254037844)\n"
   ]
  },
  {
   "cell_type": "code",
   "execution_count": null,
   "metadata": {},
   "outputs": [],
   "source": []
  },
  {
   "cell_type": "code",
   "execution_count": null,
   "metadata": {},
   "outputs": [],
   "source": []
  },
  {
   "cell_type": "code",
   "execution_count": null,
   "metadata": {},
   "outputs": [],
   "source": []
  },
  {
   "cell_type": "code",
   "execution_count": null,
   "metadata": {},
   "outputs": [],
   "source": []
  }
 ],
 "metadata": {
  "kernelspec": {
   "display_name": "Python 3",
   "language": "python",
   "name": "python3"
  },
  "language_info": {
   "codemirror_mode": {
    "name": "ipython",
    "version": 3
   },
   "file_extension": ".py",
   "mimetype": "text/x-python",
   "name": "python",
   "nbconvert_exporter": "python",
   "pygments_lexer": "ipython3",
   "version": "3.7.4"
  }
 },
 "nbformat": 4,
 "nbformat_minor": 2
}
