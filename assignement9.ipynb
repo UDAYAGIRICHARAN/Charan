{
  "nbformat": 4,
  "nbformat_minor": 0,
  "metadata": {
    "colab": {
      "name": "assignement9",
      "provenance": []
    },
    "kernelspec": {
      "name": "python3",
      "display_name": "Python 3"
    }
  },
  "cells": [
    {
      "cell_type": "markdown",
      "metadata": {
        "id": "ogHGuzpqoH1G",
        "colab_type": "text"
      },
      "source": [
        "## fizzbuzz\n"
      ]
    },
    {
      "cell_type": "code",
      "metadata": {
        "id": "SIWV3EThZyWw",
        "colab_type": "code",
        "colab": {
          "base_uri": "https://localhost:8080/",
          "height": 1000
        },
        "outputId": "e487f182-3a7a-46db-a07c-9a434723030d"
      },
      "source": [
        "for num in range(100):  \n",
        "    if num % 15 == 0:  \n",
        "        print(\"Fizzbuzz\")                                          \n",
        "        continue\n",
        "  \n",
        "    elif num % 3 == 0:      \n",
        "        print(\"Fizz\")                                          \n",
        "        continue\n",
        "\n",
        "    elif num % 5 == 0:          \n",
        "        print(\"Buzz\")                                      \n",
        "        continue\n",
        "    print(num) "
      ],
      "execution_count": 4,
      "outputs": [
        {
          "output_type": "stream",
          "text": [
            "Fizzbuzz\n",
            "1\n",
            "2\n",
            "Fizz\n",
            "4\n",
            "Buzz\n",
            "Fizz\n",
            "7\n",
            "8\n",
            "Fizz\n",
            "Buzz\n",
            "11\n",
            "Fizz\n",
            "13\n",
            "14\n",
            "Fizzbuzz\n",
            "16\n",
            "17\n",
            "Fizz\n",
            "19\n",
            "Buzz\n",
            "Fizz\n",
            "22\n",
            "23\n",
            "Fizz\n",
            "Buzz\n",
            "26\n",
            "Fizz\n",
            "28\n",
            "29\n",
            "Fizzbuzz\n",
            "31\n",
            "32\n",
            "Fizz\n",
            "34\n",
            "Buzz\n",
            "Fizz\n",
            "37\n",
            "38\n",
            "Fizz\n",
            "Buzz\n",
            "41\n",
            "Fizz\n",
            "43\n",
            "44\n",
            "Fizzbuzz\n",
            "46\n",
            "47\n",
            "Fizz\n",
            "49\n",
            "Buzz\n",
            "Fizz\n",
            "52\n",
            "53\n",
            "Fizz\n",
            "Buzz\n",
            "56\n",
            "Fizz\n",
            "58\n",
            "59\n",
            "Fizzbuzz\n",
            "61\n",
            "62\n",
            "Fizz\n",
            "64\n",
            "Buzz\n",
            "Fizz\n",
            "67\n",
            "68\n",
            "Fizz\n",
            "Buzz\n",
            "71\n",
            "Fizz\n",
            "73\n",
            "74\n",
            "Fizzbuzz\n",
            "76\n",
            "77\n",
            "Fizz\n",
            "79\n",
            "Buzz\n",
            "Fizz\n",
            "82\n",
            "83\n",
            "Fizz\n",
            "Buzz\n",
            "86\n",
            "Fizz\n",
            "88\n",
            "89\n",
            "Fizzbuzz\n",
            "91\n",
            "92\n",
            "Fizz\n",
            "94\n",
            "Buzz\n",
            "Fizz\n",
            "97\n",
            "98\n",
            "Fizz\n"
          ],
          "name": "stdout"
        }
      ]
    },
    {
      "cell_type": "markdown",
      "metadata": {
        "id": "VxHjGS23oPqR",
        "colab_type": "text"
      },
      "source": [
        "##average,sum"
      ]
    },
    {
      "cell_type": "code",
      "metadata": {
        "id": "X8qU3ahTnccd",
        "colab_type": "code",
        "colab": {
          "base_uri": "https://localhost:8080/",
          "height": 84
        },
        "outputId": "05f04a9a-e848-488a-892d-0858f913d4ce"
      },
      "source": [
        "\n",
        "try:   \n",
        "            num=int(input(\"enter a number :\"))\n",
        "            i=0\n",
        "            sum=0\n",
        "            num1=num\n",
        "            while(num>0):\n",
        "                i=i+1\n",
        "                rem=num%10\n",
        "                sum+=rem\n",
        "                num=num//10\n",
        "            print(\"sum:\",sum)\n",
        "            print(\"average :\",sum/i)\n",
        "except:\n",
        "            print(\"please enter valid input..!!\")\n",
        "finally:\n",
        "            print(\"THANK YOU\")"
      ],
      "execution_count": 7,
      "outputs": [
        {
          "output_type": "stream",
          "text": [
            "enter a number :5\n",
            "sum: 5\n",
            "average : 5.0\n",
            "THANK YOU...!!\n"
          ],
          "name": "stdout"
        }
      ]
    },
    {
      "cell_type": "markdown",
      "metadata": {
        "id": "sgJljP_QoiMQ",
        "colab_type": "text"
      },
      "source": [
        "## check how many alphabets,string,special char"
      ]
    },
    {
      "cell_type": "code",
      "metadata": {
        "id": "nRe3vi-HkolT",
        "colab_type": "code",
        "colab": {
          "base_uri": "https://localhost:8080/",
          "height": 84
        },
        "outputId": "d67b016d-34d1-482c-b9f5-91c78b286eec"
      },
      "source": [
        "\n",
        "s= input(\"entre the string: \")\n",
        "a= d = sp = 0\n",
        "\n",
        "for i in range(len(s)):\n",
        "    if(s[i].isalpha()):\n",
        "        a = a + 1\n",
        "    elif(s[i].isdigit()):\n",
        "        d = d + 1\n",
        "    else:\n",
        "        sp = sp + 1\n",
        "        \n",
        "print(\"Total Number of Alphabets in this String :  \", a)\n",
        "print(\"Total Number of Digits in this String :  \", d)\n",
        "print(\"Total Number of Special Characters in this String :  \", sp)"
      ],
      "execution_count": 1,
      "outputs": [
        {
          "output_type": "stream",
          "text": [
            "entre the string: charan   @@#\n",
            "Total Number of Alphabets in this String :   6\n",
            "Total Number of Digits in this String :   0\n",
            "Total Number of Special Characters in this String :   6\n"
          ],
          "name": "stdout"
        }
      ]
    },
    {
      "cell_type": "markdown",
      "metadata": {
        "id": "DVGFIsMrordr",
        "colab_type": "text"
      },
      "source": [
        "##appinding in middle"
      ]
    },
    {
      "cell_type": "code",
      "metadata": {
        "id": "NHWrk3CVmX8z",
        "colab_type": "code",
        "colab": {}
      },
      "source": [
        "s1=input(\"enter string 1 :\")\n",
        "s2=input(\"enter string 2 :\")\n",
        "\n",
        "a=(len(s1)//2)\n",
        "\n",
        "str=s1[:a]+s2+s1[a:]\n",
        "print(str)"
      ],
      "execution_count": null,
      "outputs": []
    },
    {
      "cell_type": "markdown",
      "metadata": {
        "id": "jNipIefNoFL7",
        "colab_type": "text"
      },
      "source": [
        ""
      ]
    }
  ]
}