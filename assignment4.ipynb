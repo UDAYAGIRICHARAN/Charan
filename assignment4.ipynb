{
  "nbformat": 4,
  "nbformat_minor": 0,
  "metadata": {
    "colab": {
      "name": "assignment4.ipynb",
      "provenance": []
    },
    "kernelspec": {
      "name": "python3",
      "display_name": "Python 3"
    }
  },
  "cells": [
    {
      "cell_type": "code",
      "metadata": {
        "id": "T2BApKuR6kMA",
        "colab_type": "code",
        "colab": {}
      },
      "source": [
        ""
      ],
      "execution_count": null,
      "outputs": []
    },
    {
      "cell_type": "markdown",
      "metadata": {
        "id": "dqn5JA4L6u4g",
        "colab_type": "text"
      },
      "source": [
        "## max of three"
      ]
    },
    {
      "cell_type": "code",
      "metadata": {
        "id": "FlFrYDGP6sBv",
        "colab_type": "code",
        "colab": {
          "base_uri": "https://localhost:8080/",
          "height": 85
        },
        "outputId": "8daccdea-8236-40ba-f56e-d1a827fc24a8"
      },
      "source": [
        "num1 = float(input(\"Enter first number: \"))\n",
        "num2 = float(input(\"Enter second number: \"))\n",
        "num3 = float(input(\"Enter third number: \"))\n",
        " \n",
        "if (num1 > num2) and (num1 > num3):\n",
        "     print(\"largest\",num1)\n",
        "elif (num2 > num1) and (num2 > num3):\n",
        "     print(\"largest\",num2)\n",
        "else:\n",
        "    print(\"largest\",num3)\n",
        " "
      ],
      "execution_count": 13,
      "outputs": [
        {
          "output_type": "stream",
          "text": [
            "Enter first number: 22\n",
            "Enter second number: 33\n",
            "Enter third number: 34\n",
            "largest 34.0\n"
          ],
          "name": "stdout"
        }
      ]
    },
    {
      "cell_type": "markdown",
      "metadata": {
        "id": "IVnTIBlx6tAT",
        "colab_type": "text"
      },
      "source": [
        "##reverse string"
      ]
    },
    {
      "cell_type": "code",
      "metadata": {
        "id": "0t1Hm_7j69PG",
        "colab_type": "code",
        "colab": {
          "base_uri": "https://localhost:8080/",
          "height": 51
        },
        "outputId": "b77cfab7-c99e-4539-91ec-430a55b64601"
      },
      "source": [
        "    a=input(\"enter a string :\")\n",
        "    b=a[::-1]\n",
        "    print(b)"
      ],
      "execution_count": 17,
      "outputs": [
        {
          "output_type": "stream",
          "text": [
            "enter a string :charan\n",
            "narahc\n"
          ],
          "name": "stdout"
        }
      ]
    },
    {
      "cell_type": "markdown",
      "metadata": {
        "id": "C96nz9K26-qy",
        "colab_type": "text"
      },
      "source": [
        "##prime or not"
      ]
    },
    {
      "cell_type": "code",
      "metadata": {
        "id": "8LJgYqtI69iv",
        "colab_type": "code",
        "colab": {
          "base_uri": "https://localhost:8080/",
          "height": 51
        },
        "outputId": "f5c5512a-ed24-4d7a-9f4c-148d30a8af5a"
      },
      "source": [
        "a=int(input(\"enter a number:\"))\n",
        "for i in range(2,a):\n",
        "    if(a%i==0):\n",
        "        j=1\n",
        "        break\n",
        "    else:\n",
        "        j=0\n",
        "       \n",
        "if(j==1):\n",
        "    print(\"not a prime\")\n",
        "else:\n",
        "    print(\"yes its a prime\")"
      ],
      "execution_count": 21,
      "outputs": [
        {
          "output_type": "stream",
          "text": [
            "enter a number:23\n",
            "yes its a prime\n"
          ],
          "name": "stdout"
        }
      ]
    },
    {
      "cell_type": "markdown",
      "metadata": {
        "id": "17ggMEcH7DBq",
        "colab_type": "text"
      },
      "source": [
        "##palindrome"
      ]
    },
    {
      "cell_type": "code",
      "metadata": {
        "id": "w8Ev46Zf69mQ",
        "colab_type": "code",
        "colab": {}
      },
      "source": [
        "def palindrome():\n",
        "        try:   \n",
        "            num=int(input(\"enter a number :\"))\n",
        "            rev=0\n",
        "            num1=num\n",
        "            while(num>0):\n",
        "                rem=num%10\n",
        "                rev=(rev*10)+rem\n",
        "                num=num//10\n",
        "            if(num1==rev):\n",
        "                print(\"it is palindrome\")\n",
        "            else:\n",
        "                print(\"it is not palindrome\")\n",
        "            \n",
        "        except:\n",
        "            print(\"please entre avalid input\")\n",
        "        finally:\n",
        "            print(\"have a nice day \")"
      ],
      "execution_count": 22,
      "outputs": []
    },
    {
      "cell_type": "code",
      "metadata": {
        "id": "cfHVeMBAApuG",
        "colab_type": "code",
        "colab": {
          "base_uri": "https://localhost:8080/",
          "height": 68
        },
        "outputId": "fba12bbb-fd06-4158-d0aa-083c18d06453"
      },
      "source": [
        "palindrome()"
      ],
      "execution_count": 25,
      "outputs": [
        {
          "output_type": "stream",
          "text": [
            "enter a number :233\n",
            "it is not palindrome\n",
            "have a nice day \n"
          ],
          "name": "stdout"
        }
      ]
    },
    {
      "cell_type": "markdown",
      "metadata": {
        "id": "Mrhfg0gS7J-X",
        "colab_type": "text"
      },
      "source": [
        "##sum squres"
      ]
    },
    {
      "cell_type": "code",
      "metadata": {
        "id": "Hn97W02FAo6m",
        "colab_type": "code",
        "colab": {
          "base_uri": "https://localhost:8080/",
          "height": 51
        },
        "outputId": "b2dfbccb-72fe-45c3-dc26-4e87bd4736a7"
      },
      "source": [
        "a=int(input(\"enter an number :\"))\n",
        "s=0\n",
        "b=a+1\n",
        "for i in range(1,b):\n",
        "        s=s+(i**2)\n",
        "print(\"s is \",s)"
      ],
      "execution_count": 26,
      "outputs": [
        {
          "output_type": "stream",
          "text": [
            "enter an number :2\n",
            "s is  5\n"
          ],
          "name": "stdout"
        }
      ]
    }
  ]
}