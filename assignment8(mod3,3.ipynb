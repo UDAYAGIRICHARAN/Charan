{
  "nbformat": 4,
  "nbformat_minor": 0,
  "metadata": {
    "colab": {
      "name": "assignment8(mod3,3",
      "provenance": []
    },
    "kernelspec": {
      "name": "python3",
      "display_name": "Python 3"
    }
  },
  "cells": [
    {
      "cell_type": "markdown",
      "metadata": {
        "id": "vfOtNby05oVX",
        "colab_type": "text"
      },
      "source": [
        "## count occurence"
      ]
    },
    {
      "cell_type": "code",
      "metadata": {
        "id": "kOe41zhT2O4Y",
        "colab_type": "code",
        "colab": {
          "base_uri": "https://localhost:8080/",
          "height": 67
        },
        "outputId": "e3dc47e8-e5f2-4f89-9d22-5f6094cc8799"
      },
      "source": [
        "a=input(\"enter a string :\")\n",
        "\n",
        "b=a.strip().lower()\n",
        "\n",
        "   \n",
        "all_freq = {} \n",
        " \n",
        "for i in b: \n",
        "    if i in all_freq: \n",
        "        all_freq[i] += 1\n",
        "    else: \n",
        "        all_freq[i] = 1\n",
        "  \n",
        "\n",
        "print(\"Count of all characters in GeeksforGeeks is :\\n \"+  str(all_freq))"
      ],
      "execution_count": 7,
      "outputs": [
        {
          "output_type": "stream",
          "text": [
            "enter a string :charan\n",
            "Count of all characters in GeeksforGeeks is :\n",
            " {'c': 1, 'h': 1, 'a': 2, 'r': 1, 'n': 1}\n"
          ],
          "name": "stdout"
        }
      ]
    },
    {
      "cell_type": "markdown",
      "metadata": {
        "id": "950YzYVp5p2d",
        "colab_type": "text"
      },
      "source": [
        "##return average value"
      ]
    },
    {
      "cell_type": "code",
      "metadata": {
        "id": "2hckLdH02tpx",
        "colab_type": "code",
        "colab": {
          "base_uri": "https://localhost:8080/",
          "height": 84
        },
        "outputId": "d439930d-2266-47e2-9511-af2be5eab4fc"
      },
      "source": [
        "try:   \n",
        "            num=int(input(\"enter a number :\"))\n",
        "            i=0\n",
        "            sum=0\n",
        "            num1=num\n",
        "            while(num>0):\n",
        "                i=i+1\n",
        "                rem=num%10\n",
        "                sum+=rem\n",
        "                num=num//10\n",
        "            print(\"sum:\",sum)\n",
        "            print(\"average :\",sum/i)\n",
        "except:\n",
        "            print(\"please enter valid input..!!\")\n",
        "finally:\n",
        "            print(\"THANK YOU...!!\")"
      ],
      "execution_count": 17,
      "outputs": [
        {
          "output_type": "stream",
          "text": [
            "enter a number :233\n",
            "sum: 8\n",
            "average : 2.6666666666666665\n",
            "THANK YOU...!!\n"
          ],
          "name": "stdout"
        }
      ]
    },
    {
      "cell_type": "markdown",
      "metadata": {
        "id": "key-7ztn5qoc",
        "colab_type": "text"
      },
      "source": [
        "##COUNT LOWERCASE,UPPERCASE,DIGITS,SPECIAL CHARS"
      ]
    },
    {
      "cell_type": "code",
      "metadata": {
        "id": "nbFDbyQ17Gta",
        "colab_type": "code",
        "colab": {
          "base_uri": "https://localhost:8080/",
          "height": 101
        },
        "outputId": "48254141-b868-4dc3-f182-f8bcc21217e5"
      },
      "source": [
        "string = input(\"Please Enter your Own String : \")\n",
        "alphabets = digits = special = 0\n",
        "\n",
        "for i in range(len(string)):\n",
        "    if(string[i].isalpha()):\n",
        "        alphabets = alphabets + 1\n",
        "    elif(string[i].isdigit()):\n",
        "        digits = digits + 1\n",
        "    else:\n",
        "        special = special + 1\n",
        "        \n",
        "print(\"\\nTotal Number of Alphabets in this String :  \", alphabets)\n",
        "print(\"Total Number of Digits in this String :  \", digits)\n",
        "print(\"Total Number of Special Characters in this String :  \", special)"
      ],
      "execution_count": 21,
      "outputs": [
        {
          "output_type": "stream",
          "text": [
            "Please Enter your Own String : charan\n",
            "\n",
            "Total Number of Alphabets in this String :   6\n",
            "Total Number of Digits in this String :   0\n",
            "Total Number of Special Characters in this String :   0\n"
          ],
          "name": "stdout"
        }
      ]
    },
    {
      "cell_type": "markdown",
      "metadata": {
        "id": "_ERIlO3t9Uxp",
        "colab_type": "text"
      },
      "source": [
        "## lower case should come fast"
      ]
    },
    {
      "cell_type": "code",
      "metadata": {
        "id": "ZzQuhTF84ot6",
        "colab_type": "code",
        "colab": {
          "base_uri": "https://localhost:8080/",
          "height": 50
        },
        "outputId": "1d49b291-f22f-4200-d2cc-63101c5653af"
      },
      "source": [
        "str1 =input(\"entre the string\")\n",
        "print(str1[:4].lower() + str1[4:])\n"
      ],
      "execution_count": 27,
      "outputs": [
        {
          "output_type": "stream",
          "text": [
            "entre the stringKumar\n",
            "kumar\n"
          ],
          "name": "stdout"
        }
      ]
    },
    {
      "cell_type": "markdown",
      "metadata": {
        "id": "1ZvD2Kdi5s-a",
        "colab_type": "text"
      },
      "source": [
        "## APENDING IN MIDDLE"
      ]
    },
    {
      "cell_type": "code",
      "metadata": {
        "id": "EUJF7ccB7DnL",
        "colab_type": "code",
        "colab": {}
      },
      "source": [
        ""
      ],
      "execution_count": null,
      "outputs": []
    },
    {
      "cell_type": "code",
      "metadata": {
        "id": "DwPXSBIp4tmq",
        "colab_type": "code",
        "colab": {
          "base_uri": "https://localhost:8080/",
          "height": 67
        },
        "outputId": "3e812b44-b3b7-43b6-847f-657bc0a835b5"
      },
      "source": [
        "s1=input(\"enter string 1 :\")\n",
        "s2=input(\"enter string 2 :\")\n",
        "\n",
        "a=(len(s1)//2)\n",
        "\n",
        "str=s1[:a]+s2+s1[a:]\n",
        "print(str)"
      ],
      "execution_count": 8,
      "outputs": [
        {
          "output_type": "stream",
          "text": [
            "enter string 1 :gitam\n",
            "enter string 2 :good\n",
            "gigoodtam\n"
          ],
          "name": "stdout"
        }
      ]
    },
    {
      "cell_type": "markdown",
      "metadata": {
        "id": "fea9lrsn5uIP",
        "colab_type": "text"
      },
      "source": [
        ""
      ]
    }
  ]
}