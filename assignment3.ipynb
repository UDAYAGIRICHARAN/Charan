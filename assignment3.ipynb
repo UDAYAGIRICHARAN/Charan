{
 "cells": [
  {
   "cell_type": "markdown",
   "metadata": {},
   "source": [
    "## check equlit of two inputs"
   ]
  },
  {
   "cell_type": "code",
   "execution_count": 2,
   "metadata": {},
   "outputs": [
    {
     "name": "stdout",
     "output_type": "stream",
     "text": [
      "enter a number:22\n",
      "enter second number:12\n",
      "they are not equal\n"
     ]
    }
   ],
   "source": [
    "try:\n",
    "    a=float(input(\"enter a number:\"))\n",
    "    b=float(input(\"enter second number:\"))\n",
    "    if a==b:\n",
    "        print(\"yes, both are equal\")\n",
    "    else:\n",
    "        print(\"they are not equal\")\n",
    "except:\n",
    "    print(\"error only! numbers accepted !!\")"
   ]
  },
  {
   "cell_type": "markdown",
   "metadata": {},
   "source": [
    "## check equlit of two inputs"
   ]
  },
  {
   "cell_type": "code",
   "execution_count": 4,
   "metadata": {},
   "outputs": [
    {
     "name": "stdout",
     "output_type": "stream",
     "text": [
      "enter first number22\n",
      "enter second number24\n",
      "enter  third  number33\n",
      "they are not equal\n"
     ]
    }
   ],
   "source": [
    "\n",
    "\n",
    "try:\n",
    "    a=float(input(\"enter first number\"))\n",
    "    b=float(input(\"enter second number\"))\n",
    "    c=float(input(\"enter  third  number\"))\n",
    "    if a==b and b!=c:\n",
    "        print(\"first two numbers are equal\")\n",
    "    elif a==c or c==b:\n",
    "        print(\"any two are equal \")\n",
    "    elif a==b and a==c:\n",
    "        print(\"all are equal\")\n",
    "    else:\n",
    "        print(\"they are not equal\")\n",
    "    \n",
    "except:\n",
    "    print(\"error only ! numbers accepted !!\")"
   ]
  },
  {
   "cell_type": "markdown",
   "metadata": {},
   "source": [
    "## sum of 5 checking"
   ]
  },
  {
   "cell_type": "code",
   "execution_count": 5,
   "metadata": {},
   "outputs": [
    {
     "name": "stdout",
     "output_type": "stream",
     "text": [
      "enter a number:34\n",
      "enter other number:23\n",
      "sum is greater than five\n"
     ]
    }
   ],
   "source": [
    "a=int(input(\"enter a number:\"))\n",
    "b=int(input(\"enter other number:\"))\n",
    "\n",
    "sum=a+b\n",
    "\n",
    "if sum==5:\n",
    "    print(\"equal\")\n",
    "elif sum>5:\n",
    "    print(\"sum is greater than five\")\n",
    "else:\n",
    "    print(\"sum is less than five\")"
   ]
  },
  {
   "cell_type": "markdown",
   "metadata": {},
   "source": [
    "##check marks"
   ]
  },
  {
   "cell_type": "code",
   "execution_count": null,
   "metadata": {},
   "outputs": [],
   "source": [
    "\n",
    "a=int(input(\"enter the marks :\"))\n",
    "\n",
    "\n",
    "if a>=35:\n",
    "    print(\"YOU PASSED congratulations.\")\n",
    "else:\n",
    "    print(\"YOU FAILED try again  !! \")"
   ]
  },
  {
   "cell_type": "markdown",
   "metadata": {},
   "source": [
    "##maxium of three"
   ]
  },
  {
   "cell_type": "code",
   "execution_count": 10,
   "metadata": {},
   "outputs": [
    {
     "name": "stdout",
     "output_type": "stream",
     "text": [
      "enter a number:22\n",
      "enter other number:33\n",
      "enter another number:11\n",
      " large=b\n"
     ]
    }
   ],
   "source": [
    "\n",
    "      \n",
    "    a=float(input(\"enter a number:\"))\n",
    "    b=float(input(\"enter other number:\"))\n",
    "    c=float(input(\"enter another number:\"))\n",
    "    large=a\n",
    "        \n",
    "    if b>a and b>c:\n",
    "         print(\" large=b\")\n",
    "    \n",
    "    elif c>a and  c>b:    \n",
    "        print(\" large=c\")\n",
    "  \n",
    "    elif a==b and b==c:\n",
    "        print(\"all are equal\")\n",
    "        \n",
    "    else:  \n",
    "        print(\" a large\")\n"
   ]
  },
  {
   "cell_type": "code",
   "execution_count": null,
   "metadata": {},
   "outputs": [],
   "source": []
  }
 ],
 "metadata": {
  "kernelspec": {
   "display_name": "Python 3",
   "language": "python",
   "name": "python3"
  },
  "language_info": {
   "codemirror_mode": {
    "name": "ipython",
    "version": 3
   },
   "file_extension": ".py",
   "mimetype": "text/x-python",
   "name": "python",
   "nbconvert_exporter": "python",
   "pygments_lexer": "ipython3",
   "version": "3.7.4"
  }
 },
 "nbformat": 4,
 "nbformat_minor": 2
}
