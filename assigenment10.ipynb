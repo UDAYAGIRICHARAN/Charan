{
  "nbformat": 4,
  "nbformat_minor": 0,
  "metadata": {
    "colab": {
      "name": "assigenment10",
      "provenance": []
    },
    "kernelspec": {
      "name": "python3",
      "display_name": "Python 3"
    }
  },
  "cells": [
    {
      "cell_type": "markdown",
      "metadata": {
        "id": "AjC2uBKKEamf",
        "colab_type": "text"
      },
      "source": [
        "##print starts with s string"
      ]
    },
    {
      "cell_type": "code",
      "metadata": {
        "id": "OoiogDdk_xu3",
        "colab_type": "code",
        "colab": {}
      },
      "source": [
        "def p():\n",
        "    a=input('entre the string=')\n",
        "    b=a.split()\n",
        "    c=[x for x in b if x[0]=='s']\n",
        "    print(c)"
      ],
      "execution_count": 28,
      "outputs": []
    },
    {
      "cell_type": "code",
      "metadata": {
        "id": "jdSkZn9VD_wj",
        "colab_type": "code",
        "colab": {
          "base_uri": "https://localhost:8080/",
          "height": 50
        },
        "outputId": "fcba7591-804a-410f-9c9f-630d165cf582"
      },
      "source": [
        "p()"
      ],
      "execution_count": 29,
      "outputs": [
        {
          "output_type": "stream",
          "text": [
            "entre the string=string of\n",
            "['string']\n"
          ],
          "name": "stdout"
        }
      ]
    },
    {
      "cell_type": "markdown",
      "metadata": {
        "id": "Rn-XiaUOA5s0",
        "colab_type": "text"
      },
      "source": [
        "##printing even no"
      ]
    },
    {
      "cell_type": "code",
      "metadata": {
        "id": "KfalIRWNB2Qe",
        "colab_type": "code",
        "colab": {
          "base_uri": "https://localhost:8080/",
          "height": 118
        },
        "outputId": "7a5bfb7c-027a-48a2-edc7-797b4bcb8ed6"
      },
      "source": [
        "for i in range (0,11,2):\n",
        "       print(i)\n",
        "  "
      ],
      "execution_count": 9,
      "outputs": [
        {
          "output_type": "stream",
          "text": [
            "0\n",
            "2\n",
            "4\n",
            "6\n",
            "8\n",
            "10\n"
          ],
          "name": "stdout"
        }
      ]
    },
    {
      "cell_type": "markdown",
      "metadata": {
        "id": "fY6go5DMEfjY",
        "colab_type": "text"
      },
      "source": [
        "## list comprehension for 1 to 50 and divid by 3"
      ]
    },
    {
      "cell_type": "code",
      "metadata": {
        "id": "uuxEx7EQCaJh",
        "colab_type": "code",
        "colab": {
          "base_uri": "https://localhost:8080/",
          "height": 34
        },
        "outputId": "4ec1b092-ff99-45d2-cc48-3acf5f858061"
      },
      "source": [
        "list=[x for x in range(51) if x%3==0]\n",
        "print(list)"
      ],
      "execution_count": 14,
      "outputs": [
        {
          "output_type": "stream",
          "text": [
            "[0, 3, 6, 9, 12, 15, 18, 21, 24, 27, 30, 33, 36, 39, 42, 45, 48]\n"
          ],
          "name": "stdout"
        }
      ]
    },
    {
      "cell_type": "markdown",
      "metadata": {
        "id": "o8h585lvEgOh",
        "colab_type": "text"
      },
      "source": [
        "## entre even lette words"
      ]
    },
    {
      "cell_type": "code",
      "metadata": {
        "id": "FmcltHkfCWlA",
        "colab_type": "code",
        "colab": {
          "base_uri": "https://localhost:8080/",
          "height": 50
        },
        "outputId": "9479c00b-190b-48f2-c071-3806fc0ae121"
      },
      "source": [
        "a=input(\"enter your string :\")\n",
        "c=a.split()\n",
        "d=[x for x in c if len(x)%2==0]\n",
        "print(d)"
      ],
      "execution_count": 20,
      "outputs": [
        {
          "output_type": "stream",
          "text": [
            "enter your string :the string i am entred\n",
            "['string', 'am', 'entred']\n"
          ],
          "name": "stdout"
        }
      ]
    },
    {
      "cell_type": "markdown",
      "metadata": {
        "id": "1QuvTDCQEg4v",
        "colab_type": "text"
      },
      "source": [
        "##comprehension for first letter of every word:"
      ]
    },
    {
      "cell_type": "code",
      "metadata": {
        "id": "drNotq16DMyE",
        "colab_type": "code",
        "colab": {}
      },
      "source": [
        "def str():\n",
        "    a=input(\"enter your string :\")\n",
        "    c=a.split()\n",
        "    d=[x[0] for x in c ]\n",
        "    print(d)"
      ],
      "execution_count": 16,
      "outputs": []
    },
    {
      "cell_type": "code",
      "metadata": {
        "id": "XUwUlIDMDbrR",
        "colab_type": "code",
        "colab": {
          "base_uri": "https://localhost:8080/",
          "height": 50
        },
        "outputId": "03a82746-68df-46da-f8d0-854d997fe743"
      },
      "source": [
        "str()"
      ],
      "execution_count": 19,
      "outputs": [
        {
          "output_type": "stream",
          "text": [
            "enter your string :is this a bat\n",
            "['i', 't', 'a', 'b']\n"
          ],
          "name": "stdout"
        }
      ]
    }
  ]
}