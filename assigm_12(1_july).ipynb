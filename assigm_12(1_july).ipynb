{
  "nbformat": 4,
  "nbformat_minor": 0,
  "metadata": {
    "colab": {
      "name": "assigm.12(1 july).ipynb",
      "provenance": []
    },
    "kernelspec": {
      "name": "python3",
      "display_name": "Python 3"
    }
  },
  "cells": [
    {
      "cell_type": "markdown",
      "metadata": {
        "id": "ueHMbfUGjQ23",
        "colab_type": "text"
      },
      "source": [
        "##sum  of all the items in list"
      ]
    },
    {
      "cell_type": "code",
      "metadata": {
        "id": "KekZQPJmg0W7",
        "colab_type": "code",
        "colab": {
          "base_uri": "https://localhost:8080/",
          "height": 134
        },
        "outputId": "3efd19c8-85ba-4200-a84e-fcfa4165a519"
      },
      "source": [
        "a=[]\n",
        "sum=0\n",
        "b=int(input(\"number of elements?:\"))\n",
        "for i in range(b):\n",
        "    c=int(input(\"enter elements into list :\"))\n",
        "    a.append(c)\n",
        "    sum+=c\n",
        "    \n",
        "print(a)\n",
        "print(sum)"
      ],
      "execution_count": 2,
      "outputs": [
        {
          "output_type": "stream",
          "text": [
            "number of elements?:4\n",
            "enter elements into list :2\n",
            "enter elements into list :2\n",
            "enter elements into list :2\n",
            "enter elements into list :2\n",
            "[2, 2, 2, 2]\n",
            "8\n"
          ],
          "name": "stdout"
        }
      ]
    },
    {
      "cell_type": "markdown",
      "metadata": {
        "id": "JEXdudH2jRxk",
        "colab_type": "text"
      },
      "source": [
        "##list of empty dictinaries"
      ]
    },
    {
      "cell_type": "code",
      "metadata": {
        "id": "pfYS3RmahVdB",
        "colab_type": "code",
        "colab": {
          "base_uri": "https://localhost:8080/",
          "height": 34
        },
        "outputId": "2b576f7a-b648-48ef-ef01-83309383a0ad"
      },
      "source": [
        "a=5\n",
        "b=[{}for i in range(a)]\n",
        "print(b)"
      ],
      "execution_count": 6,
      "outputs": [
        {
          "output_type": "stream",
          "text": [
            "[{}, {}, {}, {}, {}]\n"
          ],
          "name": "stdout"
        }
      ]
    },
    {
      "cell_type": "markdown",
      "metadata": {
        "id": "q8dWD6EvjTiz",
        "colab_type": "text"
      },
      "source": [
        "##acces dictronary"
      ]
    },
    {
      "cell_type": "code",
      "metadata": {
        "id": "HAi4VvYUi5V0",
        "colab_type": "code",
        "colab": {
          "base_uri": "https://localhost:8080/",
          "height": 34
        },
        "outputId": "99f8009f-d57c-40f9-fc6b-58382804c0d0"
      },
      "source": [
        "acc = {'randomforest': 80, 'decisiontree': 90, 'SVM': 86}\n",
        "print(list(acc)[2])"
      ],
      "execution_count": 9,
      "outputs": [
        {
          "output_type": "stream",
          "text": [
            "SVM\n"
          ],
          "name": "stdout"
        }
      ]
    },
    {
      "cell_type": "markdown",
      "metadata": {
        "id": "-xbIW7DFjUVT",
        "colab_type": "text"
      },
      "source": [
        "##lterate over dictionaries using loops"
      ]
    },
    {
      "cell_type": "code",
      "metadata": {
        "id": "3NEbkePSjEUj",
        "colab_type": "code",
        "colab": {
          "base_uri": "https://localhost:8080/",
          "height": 67
        },
        "outputId": "6eb6c563-b1ad-4e99-88d8-529de8b48da6"
      },
      "source": [
        "        \n",
        "d = {'perk': 1, 'fivestar': 2, 'munch': 3} \n",
        "for key, value in d.items():\n",
        "     print(key, 'is: ', d[key])"
      ],
      "execution_count": 10,
      "outputs": [
        {
          "output_type": "stream",
          "text": [
            "perk is:  1\n",
            "fivestar is:  2\n",
            "munch is:  3\n"
          ],
          "name": "stdout"
        }
      ]
    },
    {
      "cell_type": "markdown",
      "metadata": {
        "id": "pbxDcXWfjVTx",
        "colab_type": "text"
      },
      "source": [
        "##sum of all the items in dictanary"
      ]
    },
    {
      "cell_type": "code",
      "metadata": {
        "id": "CdnmkTB3jHbo",
        "colab_type": "code",
        "colab": {}
      },
      "source": [
        "a=[]\n",
        "my_dict = {'data1':100,'data2':-54,'data3':247}\n",
        "a=list((my_dict.values()))\n",
        "sum=0\n",
        "for i in a:\n",
        "    sum+=i    \n",
        "print(a)\n",
        "print(sum)"
      ],
      "execution_count": null,
      "outputs": []
    },
    {
      "cell_type": "markdown",
      "metadata": {
        "id": "UelQKxWgjV_g",
        "colab_type": "text"
      },
      "source": [
        "##create new dictionary by concatinating other"
      ]
    },
    {
      "cell_type": "code",
      "metadata": {
        "id": "Bb491bsWjLvs",
        "colab_type": "code",
        "colab": {
          "base_uri": "https://localhost:8080/",
          "height": 34
        },
        "outputId": "fddeab07-d568-45e3-a7f6-e6dfa9370d13"
      },
      "source": [
        "#dict1={1:10,2:20}\n",
        "#dict2={3:30,4:40}\n",
        "#dict3={5:50,6:60}\n",
        "\n",
        "\n",
        "#d4 = dict(dict1.items() + dict2.items() + dict3.items()) ## does not work on python3\n",
        "#print(d4)\n",
        "\n",
        "\n",
        "dic1={1:10, 2:20}\n",
        "dic2={3:30, 4:40}\n",
        "dic3={5:50,6:60}\n",
        "dic4 = {}\n",
        "for d in (dic1, dic2, dic3):\n",
        "    dic4.update(d)                       ##update\n",
        "print(dic4)"
      ],
      "execution_count": 11,
      "outputs": [
        {
          "output_type": "stream",
          "text": [
            "{1: 10, 2: 20, 3: 30, 4: 40, 5: 50, 6: 60}\n"
          ],
          "name": "stdout"
        }
      ]
    }
  ]
}